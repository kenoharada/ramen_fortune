{
 "cells": [
  {
   "cell_type": "code",
   "execution_count": 1,
   "metadata": {
    "collapsed": true
   },
   "outputs": [],
   "source": [
    "cp, np, a, fc, ac = 0, 0, 0, 0, 0"
   ]
  },
  {
   "cell_type": "code",
   "execution_count": 2,
   "metadata": {
    "collapsed": true
   },
   "outputs": [],
   "source": [
    "import random\n",
    "score = [0, 1, 2, 3, 4, 5, 6]\n",
    "cp = random.choice(score)\n",
    "np = random.choice(score)\n",
    "a = random.choice(score)\n",
    "fc = random.choice(score)\n",
    "ac = random.choice(score)"
   ]
  },
  {
   "cell_type": "code",
   "execution_count": 3,
   "metadata": {
    "collapsed": true
   },
   "outputs": [],
   "source": [
    "scores = {'cp': cp, 'np': np, 'a': a, 'fc': fc, 'ac':ac}\n",
    "def algo_ego1(scores):\n",
    "    if (max(scores.values()) == scores['np']) and (min(scores.values()) == scores['cp']) and (scores['a'] >= scores['fc'] >= scores['ac']):\n",
    "        ego = 1\n",
    "    elif (min([scores['np'], scores['ac']]) >= scores['a']) and (max([scores['cp'], scores['fc']]) <= scores['a']):\n",
    "        ego = 2\n",
    "    elif (max([scores['np'], scores['ac']]) <= scores['a']) and (min([scores['cp'], scores['fc']]) >= scores['a']):\n",
    "        ego = 3\n",
    "    elif (min([scores['cp'], scores['ac']]) >= scores['np']) and (max([scores['a'], scores['fc']]) <= scores['np']):\n",
    "        ego = 4\n",
    "    elif min([scores['cp'], scores['a'], scores['ac']]) >=max([scores['np'], scores['fc']]):\n",
    "        ego = 5\n",
    "    elif min([scores['np'], scores['fc']]) >=max([scores['cp'], scores['a'], scores['ac']]):\n",
    "        ego = 6\n",
    "    elif (scores['a'] >= max([scores['np'], scores['fc']])) and (min([scores['np'], scores['fc']]) >= max([scores['cp'], scores['ac']])):\n",
    "        ego = 7\n",
    "    elif scores['cp'] >= scores['np'] >= scores['a'] >= scores['fc'] >= scores['ac']:\n",
    "        ego = 8\n",
    "    elif scores['cp'] <= scores['np'] <= scores['a'] <= scores['fc'] <= scores['ac']:\n",
    "        ego = 9\n",
    "    else:\n",
    "        ego = 10\n",
    "    return ego"
   ]
  },
  {
   "cell_type": "code",
   "execution_count": 4,
   "metadata": {
    "collapsed": true
   },
   "outputs": [],
   "source": [
    "def algo_ego2(scores):\n",
    "    if (scores['np'] > scores['cp']) and (max(scores.values()) == scores['np']) and (min(scores.values()) == min([scores['cp'], scores['ac']])) and (scores['a'] >= scores['fc'] >= scores['ac']):\n",
    "        ego = 1\n",
    "    elif (min([scores['np'], scores['ac']]) >= scores['a']) and (max([scores['cp'], scores['fc']]) <= scores['a']):\n",
    "        ego = 2\n",
    "    elif (max([scores['np'], scores['ac']]) <= scores['a']) and (min([scores['cp'], scores['fc']]) >= scores['a']):\n",
    "        ego = 3\n",
    "    elif (min([scores['cp'], scores['ac']]) >= scores['np']) and (max([scores['a'], scores['fc']]) <= scores['np']):\n",
    "        ego = 4\n",
    "    elif min([scores['cp'], scores['a'], scores['ac']]) >=max([scores['np'], scores['fc']]):\n",
    "        ego = 5\n",
    "    elif min([scores['np'], scores['fc']]) >=max([scores['cp'], scores['a'], scores['ac']]):\n",
    "        ego = 6\n",
    "    elif (scores['a'] >= max([scores['np'], scores['fc']])) and (min([scores['np'], scores['fc']]) >= max([scores['cp'], scores['ac']])):\n",
    "        ego = 7\n",
    "    elif scores['cp'] >= scores['np'] >= scores['a'] >= scores['fc'] >= scores['ac']:\n",
    "        ego = 8\n",
    "    elif scores['cp'] <= scores['np'] <= scores['a'] <= scores['fc'] <= scores['ac']:\n",
    "        ego = 9\n",
    "    else:\n",
    "        ego = 10\n",
    "    return ego"
   ]
  },
  {
   "cell_type": "code",
   "execution_count": 5,
   "metadata": {},
   "outputs": [
    {
     "data": {
      "text/plain": [
       "2"
      ]
     },
     "execution_count": 5,
     "metadata": {},
     "output_type": "execute_result"
    }
   ],
   "source": [
    "scores_1 = {'cp': 3, 'np': 4, 'a': 4, 'fc': 3, 'ac':4}\n",
    "algo_ego2(scores)"
   ]
  },
  {
   "cell_type": "code",
   "execution_count": null,
   "metadata": {
    "collapsed": true
   },
   "outputs": [],
   "source": [
    "scores_1 = {'cp': 0, 'np': 6, 'a': 5, 'fc': 4, 'ac':3}\n",
    "lists_1 = [0, 6, 5, 4, 3]\n",
    "\n",
    "scores_2 = {'cp': 1, 'np': 4, 'a': 3, 'fc': 0, 'ac':5}\n",
    "lists_2 = [1, 4, 3, 0, 5]\n",
    "\n",
    "scores_3 = {'cp': 4, 'np': 1, 'a': 3, 'fc': 5, 'ac':0}\n",
    "lists_3 = [4, 1, 3, 5, 0]\n",
    "\n",
    "scores_4 = {'cp': 4, 'np': 3, 'a': 2, 'fc': 1, 'ac':5}\n",
    "lists_4 = [4, 3, 2, 1, 5]\n",
    "\n",
    "scores_5 = {'cp': 4, 'np': 3, 'a': 4, 'fc': 1, 'ac':5}\n",
    "lists_5 = [4, 3, 4, 1, 5]"
   ]
  },
  {
   "cell_type": "code",
   "execution_count": 27,
   "metadata": {},
   "outputs": [
    {
     "name": "stdout",
     "output_type": "stream",
     "text": [
      "[462, 1008, 1085, 987, 2016, 2100, 805, 378, 378, 7588]\n",
      "16807\n",
      "[ 2.74885464  5.99750104  6.45564348  5.8725531  11.99500208 12.49479384\n",
      "  4.78967097  2.24906289  2.24906289 45.14785506]\n"
     ]
    }
   ],
   "source": [
    "cp_s = [0, 1, 2, 3, 4, 5, 6]\n",
    "np_s = [0, 1, 2, 3, 4, 5, 6]\n",
    "a_s = [0, 1, 2, 3, 4, 5, 6]\n",
    "fc_s = [0, 1, 2, 3, 4, 5, 6]\n",
    "ac_s = [0, 1, 2, 3, 4, 5, 6]\n",
    "egos = [0, 0, 0, 0, 0, 0, 0, 0, 0, 0]\n",
    "count = 0\n",
    "for cp in cp_s:\n",
    "    for np in np_s:\n",
    "        for a in a_s:\n",
    "            for fc in fc_s:\n",
    "                for ac in ac_s:\n",
    "                    scores = {'cp': cp, 'np': np, 'a': a, 'fc': fc, 'ac':ac}\n",
    "                    ego = algo_ego1(scores)\n",
    "                    egos[ego-1] += 1\n",
    "                    count += 1\n",
    "print(egos)\n",
    "print(count)\n",
    "import numpy\n",
    "print(numpy.array(egos) * 100/numpy.array(count))"
   ]
  },
  {
   "cell_type": "code",
   "execution_count": 55,
   "metadata": {},
   "outputs": [
    {
     "name": "stdout",
     "output_type": "stream",
     "text": [
      "[386, 458, 475, 1561, 829, 3118, 167, 218, 184, 9411]\n",
      "16807\n",
      "[ 2.29666211  2.72505504  2.82620337  9.28779675  4.93246861 18.5517939\n",
      "  0.99363361  1.2970786   1.09478194 55.99452609]\n"
     ]
    }
   ],
   "source": [
    "cp_s = [0, 1, 2, 3, 4, 5, 6]\n",
    "np_s = [0, 1, 2, 3, 4, 5, 6]\n",
    "a_s = [0, 1, 2, 3, 4, 5, 6]\n",
    "fc_s = [0, 1, 2, 3, 4, 5, 6]\n",
    "ac_s = [0, 1, 2, 3, 4, 5, 6]\n",
    "egos = [0, 0, 0, 0, 0, 0, 0, 0, 0, 0]\n",
    "count = 0\n",
    "for cp in cp_s:\n",
    "    for np in np_s:\n",
    "        for a in a_s:\n",
    "            for fc in fc_s:\n",
    "                for ac in ac_s:\n",
    "                    scores = {'cp': cp, 'np': np, 'a': a, 'fc': fc, 'ac':ac}\n",
    "                    values = [cp, np, a, fc, ac]\n",
    "                    odd_count = 0\n",
    "                    for value in values:\n",
    "                        if value % 2 ==1:\n",
    "                            odd_count += 1\n",
    "                    if odd_count >= 3:\n",
    "                        value_index = 0\n",
    "                        for value in values:\n",
    "                            if value % 2 ==1:\n",
    "                                a = random.random()\n",
    "                                if 0.75> a > 0.5:\n",
    "                                    values[value_index] -= 1\n",
    "                                elif a > 0.75:\n",
    "                                    values[value_index] -= 2\n",
    "                                \n",
    "                            value_index += 1\n",
    "                    scores = {'cp': values[0], 'np': values[1], 'a': values[2], 'fc': values[3], 'ac':values[4]}\n",
    "                    \n",
    "                    ego = algo_ego2(scores)\n",
    "                    egos[ego-1] += 1\n",
    "                    count += 1\n",
    "print(egos)\n",
    "print(count)\n",
    "import numpy\n",
    "print(numpy.array(egos) * 100/numpy.array(count))"
   ]
  },
  {
   "cell_type": "code",
   "execution_count": null,
   "metadata": {
    "collapsed": true
   },
   "outputs": [],
   "source": []
  }
 ],
 "metadata": {
  "kernelspec": {
   "display_name": "Python [default]",
   "language": "python",
   "name": "python3"
  },
  "language_info": {
   "codemirror_mode": {
    "name": "ipython",
    "version": 3
   },
   "file_extension": ".py",
   "mimetype": "text/x-python",
   "name": "python",
   "nbconvert_exporter": "python",
   "pygments_lexer": "ipython3",
   "version": "3.5.4"
  }
 },
 "nbformat": 4,
 "nbformat_minor": 2
}
